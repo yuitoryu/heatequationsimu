{
 "cells": [
  {
   "cell_type": "code",
   "metadata": {
    "ExecuteTime": {
     "end_time": "2025-04-21T04:38:02.545712Z",
     "start_time": "2025-04-21T04:38:00.615267Z"
    }
   },
   "source": [
    "import torch\n",
    "import math\n",
    "import matplotlib.pyplot as plt\n",
    "from torch import nn\n",
    "import numpy as np\n",
    "from tqdm import tqdm\n",
    "import matplotlib.cm as cm\n",
    "import matplotlib.colors as mcolors\n",
    "from numba import njit, cuda\n",
    "from torch import nn\n",
    "import cython"
   ],
   "outputs": [],
   "execution_count": 1
  },
  {
   "cell_type": "code",
   "execution_count": 9,
   "metadata": {},
   "outputs": [
    {
     "name": "stdout",
     "output_type": "stream",
     "text": [
      "The cython extension is already loaded. To reload it, use:\n",
      "  %reload_ext cython\n"
     ]
    }
   ],
   "source": [
    "%load_ext cython\n",
    "#at5854@nyu.edu"
   ]
  },
  {
   "cell_type": "code",
   "metadata": {
    "ExecuteTime": {
     "end_time": "2025-04-21T04:50:13.499015Z",
     "start_time": "2025-04-21T04:50:13.479015Z"
    }
   },
   "source": [
    "@njit\n",
    "def fix_interface_numba_cpu(grid, seg_indices, alphas, k_interface, c_dt_dx2):\n",
    "    \"\"\"\n",
    "    CPU version of the interface update using Numba.\n",
    "    Args:\n",
    "        grid (np.ndarray): 1D array of grid values.\n",
    "        seg_indices (np.ndarray): Interface indices (last index of left segment).\n",
    "        alphas (np.ndarray): Conductivities. Length = n_interfaces+1.\n",
    "        k_interface (np.ndarray): Computed interface conductivities.\n",
    "        c_dt_dx2 (float): Precomputed factor.\n",
    "    \"\"\"\n",
    "    # Constructed under assistant of CahtGPT\n",
    "    for i in range(seg_indices.shape[0]):\n",
    "        idx = seg_indices[i]\n",
    "        i0 = grid[idx - 1]\n",
    "        i1 = grid[idx]\n",
    "        i2 = grid[idx + 1]\n",
    "        i3 = grid[idx + 2]\n",
    "        change1 = c_dt_dx2 * (k_interface[i] * (i2 - i1) + alphas[i] * (i0 - i1))\n",
    "        change2 = c_dt_dx2 * (alphas[i+1] * (i3 - i2) + alphas[i] * (i1 - i2))\n",
    "        grid[idx] = i1 + change1\n",
    "        grid[idx+1] = i2 + change2\n",
    "    return grid\n",
    "\n",
    "@cuda.jit\n",
    "def fix_interface_numba_gpu(grid, seg_indices, alphas, k_interface, c_dt_dx2):\n",
    "    \"\"\"\n",
    "    GPU version of the interface update using Numba CUDA.\n",
    "    This kernel is launched with 1D grid.\n",
    "    \"\"\"\n",
    "    # Constructed under assistant of CahtGPT\n",
    "    i = cuda.grid(1)\n",
    "    if i < seg_indices.shape[0]:\n",
    "        idx = seg_indices[i]\n",
    "        # Direct indexing on device arrays\n",
    "        i0 = grid[idx - 1]\n",
    "        i1 = grid[idx]\n",
    "        i2 = grid[idx + 1]\n",
    "        i3 = grid[idx + 2]\n",
    "        change1 = c_dt_dx2 * (k_interface[i] * (i2 - i1) + alphas[i] * (i0 - i1))\n",
    "        change2 = c_dt_dx2 * (alphas[i+1] * (i3 - i2) + alphas[i] * (i1 - i2))\n",
    "        grid[idx] = i1 + change1\n",
    "        grid[idx+1] = i2 + change2\n",
    "        \n",
    "class BC_1D:\n",
    "    def __init__(self, left, right):\n",
    "        \"\"\"\n",
    "        Args:\n",
    "            left, right: (alpha, beta, f(t))\n",
    "        \"\"\"\n",
    "        self.left_alpha, self.left_beta, self.left_func = left\n",
    "        self.right_alpha, self.right_beta, self.right_func = right\n",
    "        \n",
    "    def apply(self, grid, dx, cur_time):\n",
    "        gamma_left = self.left_beta / dx\n",
    "        gamma_right = self.right_beta / dx\n",
    "        \n",
    "        # Left boundary\n",
    "        grid[0] = (self.left_func(cur_time) - gamma_left * grid[1]) / (self.left_alpha - gamma_left)\n",
    " \n",
    "        # Right boundary (fixed typo)\n",
    "        grid[-1] = (self.right_func(cur_time) + gamma_right * grid[-2]) / (self.right_alpha + gamma_right)\n",
    "        \n",
    "class SegConduct:\n",
    "    def __init__(self, alphas, segs=[]):\n",
    "        \"\"\"\n",
    "        Args:\n",
    "            alphas (list[float]): a list of conductivities\n",
    "            segs (list[float]): boundary of different conductivities\n",
    "        \"\"\"\n",
    "        self.alphas = alphas\n",
    "        self.segs = segs\n",
    "        self.conduct_map = None\n",
    "    \n",
    "    def sanity_check(self, simu):\n",
    "        # Check the validility of input conditions\n",
    "        \n",
    "        # Check if each segement can be assigned with a value or not\n",
    "        assert len(self.alphas) == len(self.segs) + 1, 'Number of conductivities does not match with number of segment bars.'\n",
    "        \n",
    "        # Check if seg bars are in legal order or not\n",
    "        jud = True\n",
    "        if len(self.segs) > 1:\n",
    "            for i in range(len(self.segs)-1):\n",
    "                if self.segs[i] >= self.segs[i+1]:\n",
    "                    jud = False\n",
    "                    break\n",
    "        assert jud, 'Value inside segment bars is not strictly monotonically increasing.'\n",
    "        \n",
    "        # Check if the seg bar range is still within the simulation grid or not\n",
    "        assert self.segs[-1] < simu.L - simu.dx and self.segs[0] > 0, 'Position of segment bars is out of simulation bound or too close to the boundary.'\n",
    "        \n",
    "        simu.if_seg = True\n",
    "    \n",
    "    def make_seg_index_and_calc_k_interface(self, simu):\n",
    "        # Location of the boundary index is the last index of the left segment\n",
    "        self.seg_index = []\n",
    "        self.k_interface = []\n",
    "        append1 = self.seg_index.append\n",
    "        append2 = self.k_interface.append\n",
    "        for i in range(len(self.segs)):\n",
    "            append1(math.floor(self.segs[i] / simu.dx))\n",
    "            append2( 2 * self.alphas[i] * self.alphas[i+1] / (self.alphas[i] + self.alphas[i+1]))\n",
    "  \n",
    "    def make_conduct_map(self, simu):\n",
    "        self.conduct_map = torch.zeros(simu.xstep, requires_grad=False)\n",
    "        # Assigning values\n",
    "        start = 0\n",
    "        for i in range(len(self.seg_index)):\n",
    "            end = self.seg_index[i] + 1\n",
    "            self.conduct_map[start:end] = self.alphas[i]\n",
    "            start = end\n",
    "        self.conduct_map[start:-1] = self.alphas[-1]\n",
    "        # print(simu.device)\n",
    "        self.conduct_map = self.conduct_map.to(simu.device)\n",
    "        # print(self.conduct_map.device)\n",
    "                     \n",
    "        \n",
    "class Heat1dSimu:\n",
    "    def __init__(self, L, xstep, total_time, tstep, bc, ic, c, plot_step, Q=0, device='cpu', do_progress_bar=True):\n",
    "        \"\"\"\n",
    "        Args:\n",
    "            L (float): Physical length of the 1D domain.\n",
    "            xstep (int): Number of *interior* points (excluding boundaries).\n",
    "            total_time (float): End time for the simulation.\n",
    "            tstep (int): Number of time steps to take.\n",
    "            bc (BC_1D or float): Boundary condition.\n",
    "            ic (callable): Function for initial condition.\n",
    "            c (float): Diffusion coefficient.\n",
    "            plot_step (int): How often (in steps) to plot the solution.\n",
    "            device (str): 'cpu' or 'cuda', which device to use for Tensor operations.\n",
    "        \"\"\"\n",
    "        self.L = L\n",
    "        self.xstep = xstep\n",
    "        self.total_time = total_time\n",
    "        self.tstep = tstep\n",
    "        self.bc = bc\n",
    "        self.ic = ic\n",
    "        self.c = c\n",
    "        self.cur_time = 0.0\n",
    "        self.plot_step = plot_step\n",
    "        self.if_seg = False\n",
    "        self.do_progress_bar = not do_progress_bar\n",
    "        self.Q = self.make_heat_source_func(Q)\n",
    "        # Check device\n",
    "        if torch.cuda.is_available():\n",
    "            self.device = device\n",
    "            print('Your simulation will be performed based on CUDA.')\n",
    "        else:\n",
    "            self.device = 'cpu'\n",
    "            print('Your simulation will be performed based on CPU.')\n",
    "        self.grid_pos = torch.linspace(0, self.L, steps=self.xstep).to(self.device)\n",
    "        \n",
    "        \n",
    "        # Discretization\n",
    "        self.dx = L / (xstep + 0)\n",
    "        self.dt = total_time / tstep\n",
    "        if isinstance(self.c, SegConduct): # If it is a SegConduct object, conductivity will be applied during update\n",
    "            mul = 1\n",
    "            if len(self.c.alphas) > 1:\n",
    "                self.c.sanity_check(self) # Check if the configure is fine\n",
    "                self.c.make_seg_index_and_calc_k_interface(self) # Initializing position of interface\n",
    "                self.c.make_conduct_map(self) # Create a map of conductivity\n",
    "                factor = max(self.c.alphas) * self.total_time / self.tstep /(self.L / (self.xstep + 1))**2\n",
    "            else:\n",
    "                self.c = self.c.alphas[0]\n",
    "                mul = self.c\n",
    "                factor = mul * self.total_time / self.tstep /(self.L / (self.xstep + 1))**2\n",
    "        else:\n",
    "            mul = c\n",
    "            factor = mul * self.total_time / self.tstep /(self.L / (self.xstep + 1))**2\n",
    "        print(factor)   \n",
    "        assert factor <= 0.5, f'Inappropriate dx and dt value. Your factor is {factor}. Instability will occur and the solution will diverge.'\n",
    "            \n",
    "        self.c_dt_dx2 = mul * self.dt / (self.dx ** 2)  # Precompute factor\n",
    "\n",
    "        # Solution array (including boundary points)\n",
    "        self.grid = torch.zeros(xstep + 2, device=device, requires_grad=False)\n",
    "\n",
    "        # Set initial condition\n",
    "        self.set_ic()\n",
    "\n",
    "        # Define convolution kernel once\n",
    "        self.conv = nn.Conv1d(1, 1, kernel_size=3, bias=False, device=device)\n",
    "        with torch.no_grad():\n",
    "            self.conv.weight[:] = self.c_dt_dx2 * torch.tensor(\n",
    "                [[[1, -2, 1]]], dtype=torch.float, device=device\n",
    "            )\n",
    "\n",
    "        # Decide update mode for best performance\n",
    "        self.update_mode_select()\n",
    "    \n",
    "    def make_heat_source_func(self, Q):\n",
    "        def func(x,t):\n",
    "            return Q\n",
    "        if callable(Q):\n",
    "            return Q\n",
    "        else:\n",
    "            return func\n",
    "            \n",
    "    def update_mode_select(self):\n",
    "        if self.if_seg:\n",
    "            if len(self.c.seg_index) <= 5:\n",
    "                self.update = self.update_few_seg\n",
    "            else:\n",
    "                self.update = self.update_many_seg\n",
    "        else:\n",
    "            self.update = self.update_const_conduct\n",
    "        \n",
    "    def conduct_seg_sanity_check(self):\n",
    "        if self.if_seg:\n",
    "            self.c.sanity_check(self)\n",
    "        elif (not isinstance(self.c, int)) or (not isinstance(self.c, float)):\n",
    "            raise TypeError('Expected int or float or SegConduct object.')\n",
    "\n",
    "    def set_bc(self):\n",
    "        \"\"\"Apply boundary conditions using the stored current time.\"\"\"\n",
    "        self.bc.apply(self.grid, self.dx, self.cur_time)\n",
    "\n",
    "    def set_ic(self):\n",
    "        \"\"\"Initialize interior points using the function ic.\"\"\"\n",
    "        x_interior = torch.linspace(self.dx, self.dx * self.xstep, self.xstep, device=self.device)\n",
    "        self.grid[1:-1] = self.ic(x_interior)\n",
    "        \n",
    "    def update_const_conduct(self):\n",
    "        self.set_bc()  # Apply boundary conditions\n",
    "        \n",
    "        self.update_grid_const()\n",
    "            \n",
    "        self.cur_time += self.dt\n",
    "\n",
    "    @torch.jit.script_method\n",
    "    def update_grid_const(self):\n",
    "        with torch.no_grad():  # Prevent autograd tracking\n",
    "            input_for_conv = self.grid.view(1, 1, -1)\n",
    "            second_diff = self.conv(input_for_conv).view(-1) + self.dt * self.Q(self.grid_pos, self.cur_time)\n",
    "            # self.grid[1:-1] += second_diff\n",
    "            new_grid = self.grid.clone()\n",
    "            new_grid[1:-1] = self.grid[1:-1] + second_diff\n",
    "            self.grid.copy_(new_grid)\n",
    "\n",
    "    def update_few_seg(self):\n",
    "        self.set_bc()  # Apply boundary conditions\n",
    "\n",
    "        # Record interface neighbourhood information\n",
    "        interface = self.record_interface()\n",
    "        with torch.no_grad():  # Prevent autograd tracking\n",
    "            input_for_conv = self.grid.view(1, 1, -1)\n",
    "            second_diff = self.conv(input_for_conv).view(-1)\n",
    "            second_diff *= self.c.conduct_map\n",
    "            self.grid[1:-1] += second_diff  # Update interior points\n",
    "        # Update interfaces\n",
    "        self.fix_interface(interface)\n",
    "        self.grid[1:-1] += self.dt * self.Q(self.grid_pos, self.cur_time)\n",
    "        \n",
    "        self.cur_time += self.dt\n",
    "\n",
    "            \n",
    "    def update_many_seg(self):\n",
    "        self.set_bc()\n",
    "        \n",
    "        interface_list = self.record_interface()\n",
    "        \n",
    "        with torch.no_grad():\n",
    "            input_for_conv = self.grid.view(1, 1, -1)\n",
    "            second_diff = self.conv(input_for_conv).view(-1)\n",
    "            second_diff *= self.c.conduct_map\n",
    "            self.grid[1:-1] += second_diff\n",
    "\n",
    "        self.update_interface_numba()\n",
    "        self.grid[1:-1] += self.dt * self.Q(self.grid_pos, self.cur_time)\n",
    "        \n",
    "        self.cur_time += self.dt            \n",
    "        \n",
    "    def update_interface_numba(self):\n",
    "        \"\"\"\n",
    "        Use Numba to update the grid at the interface points.\n",
    "        Dispatch to CPU or GPU version based on self.device.\n",
    "        \"\"\"\n",
    "        # Prepare data as numpy arrays\n",
    "        seg_indices_np = np.array(self.c.seg_index, dtype=np.int64)\n",
    "        alphas_np = np.array(self.c.alphas, dtype=np.float32)\n",
    "        k_interface_np = np.array(self.c.k_interface, dtype=np.float32)\n",
    "        \n",
    "        if self.device == 'cpu':\n",
    "            # For CPU, move grid to numpy, update, then convert back.\n",
    "            grid_np = self.grid.cpu().numpy().astype(np.float32)\n",
    "            grid_np = fix_interface_numba_cpu(grid_np, seg_indices_np, alphas_np, k_interface_np, self.c_dt_dx2)\n",
    "            self.grid = torch.from_numpy(grid_np).to(self.device)\n",
    "        else:\n",
    "            # For GPU, wrap the grid via __cuda_array_interface__\n",
    "            grid_dev = cuda.as_cuda_array(self.grid)\n",
    "            seg_indices_dev = cuda.to_device(seg_indices_np)\n",
    "            alphas_dev = cuda.to_device(alphas_np)\n",
    "            k_interface_dev = cuda.to_device(k_interface_np)\n",
    "            threads_per_block = 32\n",
    "            blocks_per_grid = (len(seg_indices_np) + (threads_per_block - 1)) // threads_per_block\n",
    "            fix_interface_numba_gpu[blocks_per_grid, threads_per_block](\n",
    "                grid_dev, seg_indices_dev, alphas_dev, k_interface_dev, self.c_dt_dx2\n",
    "            )\n",
    "            # grid_dev is a view of self.grid, so self.grid is updated in place.    \n",
    "        \n",
    "    \n",
    "    def record_interface(self):\n",
    "        return [ self.grid[seg-1:seg+3] for seg in self.c.seg_index ]\n",
    "            \n",
    "    def fix_interface(self, interface):\n",
    "        for i in range(len(interface)):\n",
    "            # Left end\n",
    "            num1 = self.c.k_interface[i] * (interface[i][2] - interface[i][1])\n",
    "            num2 = self.c.alphas[i] * (interface[i][0] - interface[i][1])\n",
    "            change1 = self.c_dt_dx2 * (num1 + num2)\n",
    "            \n",
    "            # Right begin\n",
    "            num1 = self.c.alphas[i+1] * (interface[i][3] - interface[i][2])\n",
    "            num2 = self.c.alphas[i] * (interface[i][1] - interface[i][2])\n",
    "            change2 = self.c_dt_dx2 * (num1 + num2)\n",
    "            \n",
    "            # Apply changes\n",
    "            self.grid[self.c.seg_index[i]] = interface[i][1] + change1\n",
    "            self.grid[self.c.seg_index[i]+1] = interface[i][2] + change2\n",
    "    \n",
    "    def start(self, do_plot=True):\n",
    "        \"\"\"Run the time-stepping simulation and (optionally) plot.\"\"\"\n",
    "        # if do_plot:\n",
    "        #     fig, ax = plt.subplots(figsize=(8, 5))\n",
    "        #\n",
    "        #     # Create a colormap & normalization for time\n",
    "        #     cmap = plt.cm.plasma\n",
    "        #     norm = plt.Normalize(vmin=0, vmax=self.total_time)\n",
    "        #\n",
    "        #     # Prepare a ScalarMappable just for the colorbar scale\n",
    "        #     sm = plt.cm.ScalarMappable(cmap=cmap, norm=norm)\n",
    "        #     sm.set_array([])\n",
    "        fig, axis = plt.subplots()\n",
    "        pcm = axis.pcolormesh([self.grid.cpu()], cmap=plt.cm.jet, vmin=0, vmax=700)\n",
    "        plt.colorbar(pcm, ax=axis)\n",
    "\n",
    "        for step in tqdm(range(self.tstep),disable=self.do_progress_bar):\n",
    "            self.update()\n",
    "            # if step % 100 == 0:\n",
    "            #     pcm.set_array([self.grid.cpu()])\n",
    "            #     plt.pause(0.01)\n",
    "            # print(torch.max(self.grid))\n",
    "            # if do_plot and step % self.plot_step == 0:\n",
    "            #     current_time = step * self.dt\n",
    "            #     color = cmap(norm(current_time))\n",
    "            #\n",
    "            #     # Plot on the specified axes\n",
    "            #     ax.plot(\n",
    "            #         self.grid[1:-1].cpu().numpy(),\n",
    "            #         color=color,\n",
    "            #         label=f't={current_time:.2f}'\n",
    "            #     )\n",
    "        plt.show()\n",
    "        # if do_plot:\n",
    "        #     # Create the colorbar using the figure, pointing to the same axes\n",
    "        #     cbar = fig.colorbar(sm, ax=ax, label='Time')\n",
    "        #     ax.set_xlabel(\"Grid Index\")\n",
    "        #     ax.set_ylabel(\"Temperature\")\n",
    "        #     ax.set_title(\"1D Heat Equation Evolution\")\n",
    "        #     ax.grid(True)\n",
    "        #     plt.show()"
   ],
   "outputs": [],
   "execution_count": 34
  },
  {
   "cell_type": "code",
   "metadata": {
    "ExecuteTime": {
     "end_time": "2025-04-21T04:50:13.904524Z",
     "start_time": "2025-04-21T04:50:13.900533Z"
    }
   },
   "source": [
    "print('hello')"
   ],
   "outputs": [
    {
     "name": "stdout",
     "output_type": "stream",
     "text": [
      "hello\n"
     ]
    }
   ],
   "execution_count": 35
  },
  {
   "cell_type": "code",
   "metadata": {
    "ExecuteTime": {
     "end_time": "2025-04-21T04:50:14.449056Z",
     "start_time": "2025-04-21T04:50:14.444976Z"
    }
   },
   "source": [
    "def ic(x):\n",
    "    return 25\n",
    "def left(t):\n",
    "    return 0\n",
    "\n",
    "def right(t):\n",
    "    return 25\n",
    "\n",
    "def Q(x,t):\n",
    "    return torch.where(x<0.1,1e2,0)\n",
    "\n",
    "bc = BC_1D((0,1,left), (1,0,right)) \n",
    "L = math.pi\n",
    "xstep = 100\n",
    "total_time = 10\n",
    "tstep = 64000\n",
    "# c = 1\n",
    "num = 20\n",
    "c = SegConduct([1.5,0.00026], [0.05])\n",
    "# factor = c * total_time / tstep /(L / (xstep + 1))**2\n",
    "plot_step = tstep/5\n",
    "# print(factor)"
   ],
   "outputs": [],
   "execution_count": 36
  },
  {
   "cell_type": "code",
   "metadata": {
    "ExecuteTime": {
     "end_time": "2025-04-21T04:50:15.043286Z",
     "start_time": "2025-04-21T04:50:15.023251Z"
    }
   },
   "source": [
    "test = Heat1dSimu(L, xstep, total_time, tstep, bc, ic, c, plot_step, device='cuda', Q=Q)\n",
    "test.grid"
   ],
   "outputs": [
    {
     "name": "stdout",
     "output_type": "stream",
     "text": [
      "Your simulation will be performed based on CUDA.\n",
      "0.24224470179737995\n"
     ]
    },
    {
     "data": {
      "text/plain": [
       "tensor([ 0., 25., 25., 25., 25., 25., 25., 25., 25., 25., 25., 25., 25., 25.,\n",
       "        25., 25., 25., 25., 25., 25., 25., 25., 25., 25., 25., 25., 25., 25.,\n",
       "        25., 25., 25., 25., 25., 25., 25., 25., 25., 25., 25., 25., 25., 25.,\n",
       "        25., 25., 25., 25., 25., 25., 25., 25., 25., 25., 25., 25., 25., 25.,\n",
       "        25., 25., 25., 25., 25., 25., 25., 25., 25., 25., 25., 25., 25., 25.,\n",
       "        25., 25., 25., 25., 25., 25., 25., 25., 25., 25., 25., 25., 25., 25.,\n",
       "        25., 25., 25., 25., 25., 25., 25., 25., 25., 25., 25., 25., 25., 25.,\n",
       "        25., 25., 25.,  0.], device='cuda:0')"
      ]
     },
     "execution_count": 37,
     "metadata": {},
     "output_type": "execute_result"
    }
   ],
   "execution_count": 37
  },
  {
   "cell_type": "code",
   "metadata": {
    "ExecuteTime": {
     "end_time": "2025-04-21T04:50:43.174404Z",
     "start_time": "2025-04-21T04:50:15.507749Z"
    }
   },
   "source": [
    "test.start()\n"
   ],
   "outputs": [
    {
     "name": "stderr",
     "output_type": "stream",
     "text": [
      "100%|██████████| 64000/64000 [00:27<00:00, 2319.10it/s]\n"
     ]
    },
    {
     "data": {
      "text/plain": [
       "<Figure size 640x480 with 2 Axes>"
      ],
      "image/png": "[encoded data removed]"
     },
     "metadata": {},
     "output_type": "display_data"
    }
   ],
   "execution_count": 38
  },
  {
   "cell_type": "code",
   "execution_count": 1,
   "metadata": {},
   "outputs": [],
   "source": [
    "def target1(L, xstep, total_time, tstep, bc, ic, c, plot_step):\n",
    "    test = Heat1dSimu(L, xstep, total_time, tstep, bc, ic, c, plot_step, device='cuda', do_progress_bar=False)\n",
    "    test.start(do_plot=False)"
   ]
  },
  {
   "cell_type": "code",
   "execution_count": 107,
   "metadata": {},
   "outputs": [],
   "source": [
    "def target2(L, xstep, total_time, tstep, bc, ic, c, plot_step):\n",
    "    if True: pass"
   ]
  },
  {
   "cell_type": "code",
   "execution_count": 2,
   "metadata": {},
   "outputs": [
    {
     "ename": "NameError",
     "evalue": "name 'L' is not defined",
     "output_type": "error",
     "traceback": [
      "\u001B[1;31m---------------------------------------------------------------------------\u001B[0m",
      "\u001B[1;31mNameError\u001B[0m                                 Traceback (most recent call last)",
      "Cell \u001B[1;32mIn[2], line 1\u001B[0m\n\u001B[1;32m----> 1\u001B[0m get_ipython()\u001B[38;5;241m.\u001B[39mrun_line_magic(\u001B[38;5;124m'\u001B[39m\u001B[38;5;124mtimeit\u001B[39m\u001B[38;5;124m'\u001B[39m, \u001B[38;5;124m'\u001B[39m\u001B[38;5;124m-r 10 target1(L, xstep, total_time, tstep, bc, ic, c, plot_step)\u001B[39m\u001B[38;5;124m'\u001B[39m)\n",
      "File \u001B[1;32mc:\\Users\\seer2\\anaconda3\\Lib\\site-packages\\IPython\\core\\interactiveshell.py:2480\u001B[0m, in \u001B[0;36mInteractiveShell.run_line_magic\u001B[1;34m(self, magic_name, line, _stack_depth)\u001B[0m\n\u001B[0;32m   2478\u001B[0m     kwargs[\u001B[38;5;124m'\u001B[39m\u001B[38;5;124mlocal_ns\u001B[39m\u001B[38;5;124m'\u001B[39m] \u001B[38;5;241m=\u001B[39m \u001B[38;5;28mself\u001B[39m\u001B[38;5;241m.\u001B[39mget_local_scope(stack_depth)\n\u001B[0;32m   2479\u001B[0m \u001B[38;5;28;01mwith\u001B[39;00m \u001B[38;5;28mself\u001B[39m\u001B[38;5;241m.\u001B[39mbuiltin_trap:\n\u001B[1;32m-> 2480\u001B[0m     result \u001B[38;5;241m=\u001B[39m fn(\u001B[38;5;241m*\u001B[39margs, \u001B[38;5;241m*\u001B[39m\u001B[38;5;241m*\u001B[39mkwargs)\n\u001B[0;32m   2482\u001B[0m \u001B[38;5;66;03m# The code below prevents the output from being displayed\u001B[39;00m\n\u001B[0;32m   2483\u001B[0m \u001B[38;5;66;03m# when using magics with decorator @output_can_be_silenced\u001B[39;00m\n\u001B[0;32m   2484\u001B[0m \u001B[38;5;66;03m# when the last Python token in the expression is a ';'.\u001B[39;00m\n\u001B[0;32m   2485\u001B[0m \u001B[38;5;28;01mif\u001B[39;00m \u001B[38;5;28mgetattr\u001B[39m(fn, magic\u001B[38;5;241m.\u001B[39mMAGIC_OUTPUT_CAN_BE_SILENCED, \u001B[38;5;28;01mFalse\u001B[39;00m):\n",
      "File \u001B[1;32mc:\\Users\\seer2\\anaconda3\\Lib\\site-packages\\IPython\\core\\magics\\execution.py:1185\u001B[0m, in \u001B[0;36mExecutionMagics.timeit\u001B[1;34m(self, line, cell, local_ns)\u001B[0m\n\u001B[0;32m   1183\u001B[0m \u001B[38;5;28;01mfor\u001B[39;00m index \u001B[38;5;129;01min\u001B[39;00m \u001B[38;5;28mrange\u001B[39m(\u001B[38;5;241m0\u001B[39m, \u001B[38;5;241m10\u001B[39m):\n\u001B[0;32m   1184\u001B[0m     number \u001B[38;5;241m=\u001B[39m \u001B[38;5;241m10\u001B[39m \u001B[38;5;241m*\u001B[39m\u001B[38;5;241m*\u001B[39m index\n\u001B[1;32m-> 1185\u001B[0m     time_number \u001B[38;5;241m=\u001B[39m timer\u001B[38;5;241m.\u001B[39mtimeit(number)\n\u001B[0;32m   1186\u001B[0m     \u001B[38;5;28;01mif\u001B[39;00m time_number \u001B[38;5;241m>\u001B[39m\u001B[38;5;241m=\u001B[39m \u001B[38;5;241m0.2\u001B[39m:\n\u001B[0;32m   1187\u001B[0m         \u001B[38;5;28;01mbreak\u001B[39;00m\n",
      "File \u001B[1;32mc:\\Users\\seer2\\anaconda3\\Lib\\site-packages\\IPython\\core\\magics\\execution.py:173\u001B[0m, in \u001B[0;36mTimer.timeit\u001B[1;34m(self, number)\u001B[0m\n\u001B[0;32m    171\u001B[0m gc\u001B[38;5;241m.\u001B[39mdisable()\n\u001B[0;32m    172\u001B[0m \u001B[38;5;28;01mtry\u001B[39;00m:\n\u001B[1;32m--> 173\u001B[0m     timing \u001B[38;5;241m=\u001B[39m \u001B[38;5;28mself\u001B[39m\u001B[38;5;241m.\u001B[39minner(it, \u001B[38;5;28mself\u001B[39m\u001B[38;5;241m.\u001B[39mtimer)\n\u001B[0;32m    174\u001B[0m \u001B[38;5;28;01mfinally\u001B[39;00m:\n\u001B[0;32m    175\u001B[0m     \u001B[38;5;28;01mif\u001B[39;00m gcold:\n",
      "File \u001B[1;32m<magic-timeit>:1\u001B[0m, in \u001B[0;36minner\u001B[1;34m(_it, _timer)\u001B[0m\n",
      "\u001B[1;31mNameError\u001B[0m: name 'L' is not defined"
     ]
    }
   ],
   "source": [
    "%timeit -r 10 target1(L, xstep, total_time, tstep, bc, ic, c, plot_step)\n"
   ]
  },
  {
   "cell_type": "code",
   "execution_count": 108,
   "metadata": {},
   "outputs": [
    {
     "name": "stdout",
     "output_type": "stream",
     "text": [
      "58.5 ns ± 1.21 ns per loop (mean ± std. dev. of 10 runs, 10,000,000 loops each)\n"
     ]
    }
   ],
   "source": [
    "%timeit -r 10 target2(L, xstep, total_time, tstep, bc, ic, c, plot_step)"
   ]
  },
  {
   "cell_type": "code",
   "execution_count": 29,
   "metadata": {},
   "outputs": [],
   "source": [
    "%load_ext line_profiler"
   ]
  },
  {
   "cell_type": "code",
   "execution_count": 36,
   "metadata": {},
   "outputs": [
    {
     "name": "stdout",
     "output_type": "stream",
     "text": [
      "Timer unit: 1e-07 s\n",
      "\n",
      "Total time: 5.9669 s\n",
      "File: C:\\Users\\seer2\\AppData\\Local\\Temp\\ipykernel_18628\\3438554829.py\n",
      "Function: target at line 1\n",
      "\n",
      "Line #      Hits         Time  Per Hit   % Time  Line Contents\n",
      "==============================================================\n",
      "     1                                           def target(L, xstep, total_time, tstep, bc, ic, c, plot_step):\n",
      "     2         1      26424.0  26424.0      0.0      test = Heat1dSimu(L, xstep, total_time, tstep, bc, ic, c, plot_step, 'cuda', False)\n",
      "     3         1   59642526.0    6e+07    100.0      test.start(do_plot=False)"
     ]
    }
   ],
   "source": [
    "%lprun -f target target(L, xstep, total_time, tstep, bc, ic, c, plot_step)\n"
   ]
  },
  {
   "cell_type": "code",
   "execution_count": 28,
   "metadata": {},
   "outputs": [],
   "source": [
    "def subtract(a,b):\n",
    "    return a-b\n",
    "\n",
    "def torch_subtract(a,b):\n",
    "    return torch.tensor(a)-torch.tensor(b)"
   ]
  },
  {
   "cell_type": "code",
   "execution_count": 30,
   "metadata": {},
   "outputs": [
    {
     "name": "stdout",
     "output_type": "stream",
     "text": [
      "37.8 ns ± 0.663 ns per loop (mean ± std. dev. of 7 runs, 10,000,000 loops each)\n",
      "5.16 μs ± 65.4 ns per loop (mean ± std. dev. of 7 runs, 100,000 loops each)\n"
     ]
    }
   ],
   "source": [
    "%timeit subtract(2,1)\n",
    "%timeit torch_subtract(2,1)"
   ]
  }
 ],
 "metadata": {
  "kernelspec": {
   "display_name": "Python [conda env:base] *",
   "language": "python",
   "name": "conda-base-py"
  },
  "language_info": {
   "codemirror_mode": {
    "name": "ipython",
    "version": 3
   },
   "file_extension": ".py",
   "mimetype": "text/x-python",
   "name": "python",
   "nbconvert_exporter": "python",
   "pygments_lexer": "ipython3",
   "version": "3.12.9"
  }
 },
 "nbformat": 4,
 "nbformat_minor": 4
}
