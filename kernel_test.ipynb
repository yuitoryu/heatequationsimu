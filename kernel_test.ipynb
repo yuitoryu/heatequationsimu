{
 "cells": [
  {
   "cell_type": "code",
   "metadata": {
    "ExecuteTime": {
     "end_time": "2025-05-05T21:12:18.102952Z",
     "start_time": "2025-05-05T21:12:16.732676Z"
    }
   },
   "source": [
    "import torch\n",
    "import torch.nn as nn\n",
    "from time import time"
   ],
   "outputs": [],
   "execution_count": 1
  },
  {
   "cell_type": "code",
   "metadata": {
    "ExecuteTime": {
     "end_time": "2025-05-05T21:25:14.132057Z",
     "start_time": "2025-05-05T21:25:14.121757Z"
    }
   },
   "source": [
    "# Preparing experiment variable\n",
    "device = 'cuda' if torch.cuda.is_available() else 'cpu'\n",
    "\n",
    "kernel0 = torch.tensor([\n",
    "            [[ [0,0,0], [1,-1,0], [0,0,0] ]],\n",
    "            [[ [0,0,0], [0,-1,1], [0,0,0] ]],\n",
    "            [[ [0,1,0], [0,-1,0], [0,0,0] ]],\n",
    "            [[ [0,0,0], [0,-1,0], [0,1,0] ]]\n",
    "        ], device='cuda', dtype=torch.float32)\n",
    "conv0 = nn.Conv2d(1, 4, kernel_size=(3,3), bias=False, device=device, dtype=torch.float32)\n",
    "with torch.no_grad():\n",
    "    conv0.weight[:] = kernel0\n",
    "    \n",
    "kernel1 = torch.tensor([\n",
    "            [[ [0,0,0], [0,-1,0], [0,1,0] ]],\n",
    "        ], device=device, dtype=torch.float32)\n",
    "conv1 = nn.Conv2d(1, 1, kernel_size=(3,3), bias=False, device=device, dtype=torch.float32)\n",
    "with torch.no_grad():\n",
    "    conv1.weight[:] = kernel1\n",
    "\n",
    "kernel2 = torch.tensor([\n",
    "            [[ [0,0,0], [1,-1,0], [0,0,0] ]],\n",
    "        ], device=device, dtype=torch.float32)\n",
    "conv2 = nn.Conv2d(1, 1, kernel_size=(3,3), bias=False, device=device, dtype=torch.float32)\n",
    "with torch.no_grad():\n",
    "    conv2.weight[:] = kernel2\n",
    "\n",
    "kernel3 = torch.tensor([\n",
    "            [[ [0,0,0], [0,-1,1], [0,0,0] ]],\n",
    "        ], device=device, dtype=torch.float32)\n",
    "conv3 = nn.Conv2d(1, 1, kernel_size=(3,3), bias=False, device=device, dtype=torch.float32)\n",
    "with torch.no_grad():\n",
    "    conv3.weight[:] = kernel3\n",
    "\n",
    "kernel4 = torch.tensor([\n",
    "            [[ [0,1,0], [0,-1,0], [0,0,0] ]],\n",
    "        ], device=device, dtype=torch.float32)\n",
    "conv4 = nn.Conv2d(1, 1, kernel_size=(3,3), bias=False, device=device, dtype=torch.float32)\n",
    "with torch.no_grad():\n",
    "    conv4.weight[:] = kernel4\n",
    "\n",
    "\n",
    "\n",
    "\n",
    "\n",
    "map_split = torch.rand((1,1,1000,1000), device='cuda', dtype=torch.float32)\n",
    "map_merge = map_split.clone()\n",
    "map_conduct_merge = torch.ones((1,4,998,998), device='cuda', dtype=torch.float32)*2\n",
    "map_conduct = torch.ones((1,1,998,998), device='cuda', dtype=torch.float32)*2\n",
    "\n"
   ],
   "outputs": [],
   "execution_count": 32
  },
  {
   "cell_type": "code",
   "metadata": {
    "ExecuteTime": {
     "end_time": "2025-05-05T21:38:25.684145Z",
     "start_time": "2025-05-05T21:38:25.675965Z"
    }
   },
   "source": [
    "def merge_kernel_update():\n",
    "    with torch.inference_mode():\n",
    "        diff_map = conv0(map_merge)\n",
    "        diff = torch.sum(diff_map * map_conduct_merge, dim=1, keepdim=True)\n",
    "        map_merge[:, :, 1:-1, 1:-1] += diff\n",
    "        \n",
    "def merge_kernel_update2():\n",
    "    with torch.inference_mode():\n",
    "        diff_map = conv0(map_merge) * map_conduct_merge\n",
    "        \n",
    "        diff = diff_map[:,0,:,:] + diff_map[:,1,:,:] +diff_map[:,2,:,:] + diff_map[:,3,:,:]\n",
    "        diff.unsqueeze(0)\n",
    "        \n",
    "        \n",
    "        map_merge[:, :, 1:-1, 1:-1] += diff\n",
    "\n",
    "\n",
    "def split_kernel_update():\n",
    "    with torch.inference_mode():\n",
    "        diff1 = conv1(map_split)\n",
    "        diff2 = conv2(map_split)\n",
    "        diff3 = conv3(map_split)\n",
    "        diff4 = conv4(map_split)\n",
    "\n",
    "        diff = diff1 + diff2 + diff3 + diff4\n",
    "\n",
    "        map_split[:, :, 1:-1, 1:-1] += diff\n",
    "\n",
    "@torch.compile    \n",
    "def merge_kernel_update_compile():\n",
    "    with torch.inference_mode():\n",
    "        diff_map = conv0(map_merge)\n",
    "        diff = torch.sum(diff_map * map_conduct, dim=1, keepdim=True)\n",
    "        map_merge[:, :, 1:-1, 1:-1] += diff\n",
    "\n",
    "@torch.compile     \n",
    "def split_kernel_update_compile():\n",
    "    with torch.inference_mode():\n",
    "        diff1 = conv1(map_split)\n",
    "        diff2 = conv2(map_split)\n",
    "        diff3 = conv3(map_split)\n",
    "        diff4 = conv4(map_split)\n",
    "        \n",
    "        diff = diff1 + diff2 + diff3 + diff4\n",
    "\n",
    "        map_split[:, :, 1:-1, 1:-1] += diff\n",
    "        \n",
    "def time_measure(func, num_run):\n",
    "    start = time()\n",
    "    for i in range(num_run):\n",
    "        func()\n",
    "    end = time()\n",
    "    avg = (end-start) * 1000000 / num_run\n",
    "    print(avg)\n",
    "\n"
   ],
   "outputs": [],
   "execution_count": 65
  },
  {
   "metadata": {
    "ExecuteTime": {
     "end_time": "2025-05-05T21:42:36.763116Z",
     "start_time": "2025-05-05T21:42:17.159125Z"
    }
   },
   "cell_type": "code",
   "source": [
    "%%timeit -r 100 -n 1000\n",
    "split_kernel_update()"
   ],
   "outputs": [
    {
     "name": "stdout",
     "output_type": "stream",
     "text": [
      "196 μs ± 22.4 μs per loop (mean ± std. dev. of 100 runs, 1,000 loops each)\n"
     ]
    }
   ],
   "execution_count": 71
  },
  {
   "metadata": {
    "ExecuteTime": {
     "end_time": "2025-05-05T21:42:52.684130Z",
     "start_time": "2025-05-05T21:42:36.849489Z"
    }
   },
   "cell_type": "code",
   "source": [
    "%%timeit -r 100 -n 1000\n",
    "split_kernel_update_compile()"
   ],
   "outputs": [
    {
     "name": "stdout",
     "output_type": "stream",
     "text": [
      "158 μs ± 8.8 μs per loop (mean ± std. dev. of 100 runs, 1,000 loops each)\n"
     ]
    }
   ],
   "execution_count": 72
  },
  {
   "metadata": {
    "ExecuteTime": {
     "end_time": "2025-05-05T21:43:47.422614Z",
     "start_time": "2025-05-05T21:42:52.777963Z"
    }
   },
   "cell_type": "code",
   "source": [
    "%%timeit  -r 100 -n 1000\n",
    "merge_kernel_update()"
   ],
   "outputs": [
    {
     "name": "stdout",
     "output_type": "stream",
     "text": [
      "546 μs ± 14.7 μs per loop (mean ± std. dev. of 100 runs, 1,000 loops each)\n"
     ]
    }
   ],
   "execution_count": 73
  },
  {
   "metadata": {
    "ExecuteTime": {
     "end_time": "2025-05-05T21:44:18.282764Z",
     "start_time": "2025-05-05T21:43:47.590440Z"
    }
   },
   "cell_type": "code",
   "source": [
    "%%timeit  -r 100 -n 1000\n",
    "merge_kernel_update_compile()"
   ],
   "outputs": [
    {
     "name": "stdout",
     "output_type": "stream",
     "text": [
      "307 μs ± 18.3 μs per loop (mean ± std. dev. of 100 runs, 1,000 loops each)\n"
     ]
    }
   ],
   "execution_count": 74
  }
 ],
 "metadata": {
  "language_info": {
   "name": "python"
  },
  "kernelspec": {
   "name": "python3",
   "language": "python",
   "display_name": "Python 3 (ipykernel)"
  }
 },
 "nbformat": 4,
 "nbformat_minor": 2
}
