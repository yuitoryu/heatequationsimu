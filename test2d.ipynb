{
 "cells": [
  {
   "cell_type": "code",
   "execution_count": 1,
   "id": "9effc648bc599fcc",
   "metadata": {
    "ExecuteTime": {
     "end_time": "2025-04-24T04:54:20.975612Z",
     "start_time": "2025-04-24T04:54:18.495Z"
    }
   },
   "outputs": [],
   "source": [
    "import torch\n",
    "import math\n",
    "import matplotlib.pyplot as plt\n",
    "from torch import nn\n",
    "import numpy as np\n",
    "from tqdm import tqdm\n",
    "import matplotlib.cm as cm\n",
    "import matplotlib.colors as mcolors\n",
    "from numba import njit, cuda\n",
    "from torch import nn\n",
    "from torch.nn import functional as F"
   ]
  },
  {
   "cell_type": "code",
   "execution_count": 8,
   "id": "c124ae6ef8faf756",
   "metadata": {
    "ExecuteTime": {
     "end_time": "2025-04-24T04:57:58.648932Z",
     "start_time": "2025-04-24T04:57:58.642517Z"
    }
   },
   "outputs": [
    {
     "data": {
      "text/plain": [
       "tensor([[ 1,  4,  9],\n",
       "        [ 4, 10, 18]])"
      ]
     },
     "execution_count": 8,
     "metadata": {},
     "output_type": "execute_result"
    }
   ],
   "source": [
    "a = torch.tensor([[1,2,3],[4,5,6]])\n",
    "b = torch.tensor([1,2,3])\n",
    "a*b"
   ]
  },
  {
   "cell_type": "code",
   "execution_count": 37,
   "id": "4bbd01adc6269971",
   "metadata": {
    "ExecuteTime": {
     "end_time": "2025-04-23T17:15:30.152641Z",
     "start_time": "2025-04-23T17:15:30.140732Z"
    }
   },
   "outputs": [
    {
     "ename": "SyntaxError",
     "evalue": "invalid syntax (1996178436.py, line 245)",
     "output_type": "error",
     "traceback": [
      "  \u001b[36mCell\u001b[39m\u001b[36m \u001b[39m\u001b[32mIn[37]\u001b[39m\u001b[32m, line 245\u001b[39m\n\u001b[31m    \u001b[39m\u001b[31m+\u001b[39m\n     ^\n\u001b[31mSyntaxError\u001b[39m\u001b[31m:\u001b[39m invalid syntax\n"
     ]
    }
   ],
   "source": [
    "class BC_2D:\n",
    "    def __init__(self, left, right, up, down):\n",
    "        \"\"\"\n",
    "        Args:\n",
    "            left, right: (alpha, beta, f(t))\n",
    "        \"\"\"\n",
    "        # alpha*u + beta*u_x + gamma*u_y = f(t)\n",
    "        self.left_alpha, self.left_beta, self.left_func = left\n",
    "        self.right_alpha, self.right_beta, self.right_func = right\n",
    "        self.up_alpha, self.up_beta, self.up_func = up\n",
    "        self.down_alpha, self.down_beta, self.down_func = down\n",
    "\n",
    "\n",
    "    def apply(self, simu):\n",
    "        gamma_left = self.left_beta / simu.dx\n",
    "        gamma_right = self.right_beta / simu.dx\n",
    "        gamma_up = self.up_beta / simu.dx\n",
    "        gamma_down = self.down_beta / simu.dx\n",
    "        \n",
    "        # Get coordinates\n",
    "        x_coord = torch.arange(simu.x_grid, requires_grad=False, device=simu.device).expand(simu.y_grid, simu.x_grid) * simu.dx\n",
    "        y_coord = torch.arange(simu.y_grid, requires_grad=False, device=simu.device).unsqueeze(1).expand(simu.y_grid, simu.x_grid) * simu.dx\n",
    "\n",
    "        # Left boundary\n",
    "        # print(simu.grid[1:-1,0].shape)\n",
    "        # print(y_coord[0,:].shape)\n",
    "\n",
    "        simu.grid[1:-1,0] = (self.left_func(x_coord[0,:], y_coord[:,0], simu.cur_time) - gamma_left * simu.grid[1:-1,1]) / (self.left_alpha - gamma_left)\n",
    "\n",
    "\n",
    "        # Right boundary\n",
    "        simu.grid[1:-1,-1] = (self.right_func(x_coord[0,:], y_coord[:,0], simu.cur_time) + gamma_right * simu.grid[1:-1,-2]) / (self.right_alpha + gamma_right)\n",
    "\n",
    "        # Left boundary\n",
    "        simu.grid[0,1:-1] = (self.up_func(x_coord[0,:], y_coord[:,0], simu.cur_time) - gamma_up * simu.grid[1,1:-1]) / (self.up_alpha - gamma_up)\n",
    "\n",
    "        # Down boundary\n",
    "        simu.grid[-1,1:-1] = (self.down_func(x_coord[0,:], y_coord[:,0], simu.cur_time) + gamma_down * simu.grid[-2,1:-1]) / (self.down_alpha + gamma_down)\n",
    "        \n",
    "class ContConduct:\n",
    "    def __init__(self, c_func):\n",
    "        self.c_func = c_func\n",
    "        self.map = None\n",
    "\n",
    "    def make_conduct_map(self, simu):\n",
    "        # Initialize conduct map\n",
    "        self.map = torch.zeros(simu.grid.shape[0], simu.grid.shape[1], device=simu.device, dtype=simu.dtype)\n",
    "        # Get coordinates\n",
    "        x_coord = torch.arange(simu.x_grid, requires_grad=False, device=simu.device).expand(simu.y_grid, simu.x_grid) * simu.dx\n",
    "        y_coord = torch.arange(simu.y_grid, requires_grad=False, device=simu.device).unsqueeze(1).expand(simu.y_grid, simu.x_grid) * simu.dx\n",
    "\n",
    "        # Apply conductivity for interior\n",
    "        self.map[1:-1,1:-1] = self.c_func(x_coord, y_coord)\n",
    "\n",
    "        # Apply conductivity for boundary\n",
    "        self.map[0,:] = self.map[1,:] # up\n",
    "        self.map[-1,:] = self.map[-2,:] # down\n",
    "        self.map[:,0] = self.map[:,1] # left\n",
    "        self.map[:,-1] = self.map[:,-2] # right\n",
    "\n",
    "        # Compute mean conductivity\n",
    "        # left\n",
    "        self.map_left = 2 * self.map[1:-1,1:-1] * self.map[0:-2, 1:-1] / (self.map[1:-1,1:-1] + self.map[0:-2, 1:-1])\n",
    "\n",
    "        # right\n",
    "        self.map_right = 2 * self.map[1:-1,1:-1] * self.map[2:, 1:-1] / (self.map[1:-1,1:-1] + self.map[2, 1:-1])\n",
    "\n",
    "        # up\n",
    "        self.map_up = 2 * self.map[1:-1,1:-1] * self.map[1:-1, 0:-2] / (self.map[1:-1,1:-1] + self.map[1:-1, 0:-2])\n",
    "\n",
    "        # down\n",
    "        self.map_down = 2 * self.map[1:-1,1:-1] * self.map[1:-1, 2:] / (self.map[1:-1,1:-1] + self.map[1:-1, 2:])\n",
    "\n",
    "        self.merge_map = torch.stack([\n",
    "            self.map_left,\n",
    "            self.map_right,\n",
    "            self.map_up,\n",
    "            self.map_down\n",
    "        ], dim=0).unsqueeze(0)\n",
    "        \n",
    "class Heat2dSimu:\n",
    "    def __init__(self, map_shape, dx, total_time, tstep, bc, ic, c, plot_step, Q=0, device='cpu', do_progress_bar=True, dtype=torch.float32):\n",
    "        \"\"\"\n",
    "        Args:\n",
    "            map_shape (tuple): Physical size of the 2D domain.\n",
    "            step (float): Step size of *interior* points (excluding boundaries).\n",
    "            total_time (float): End time for the simulation.\n",
    "            tstep (int): Step size of time.\n",
    "            bc (iterable): Boundary condition with 4 elements. Order: up, r down, left, right.\n",
    "            ic (callable): Function for initial condition.\n",
    "            c (float): Diffusion coefficient.\n",
    "            plot_step (int): How often (in steps) to plot the solution.\n",
    "            device (str): 'cpu' or 'cuda', which device to use for Tensor operations.\n",
    "        \"\"\"\n",
    "        self.grid = None\n",
    "        self.grid_bach = None\n",
    "        self.map_shape = map_shape\n",
    "        self.dx = dx\n",
    "        self.total_time = total_time\n",
    "        self.dt = tstep\n",
    "        self.bc = bc\n",
    "        self.ic = ic\n",
    "        self.c = c\n",
    "        self.plot_step = plot_step\n",
    "        self.do_progress_bar = do_progress_bar\n",
    "        self.Q = self.make_heat_source_func(Q)\n",
    "        self.device = device\n",
    "        self.dtype = dtype\n",
    "        self.conv = None\n",
    "        self.decide_computation_mode()\n",
    "        self.cur_time = 0\n",
    "\n",
    "\n",
    "\n",
    "\n",
    "        # Check device\n",
    "        if torch.cuda.is_available() and device != 'cpu':\n",
    "            self.device = device\n",
    "            print('Your simulation will be performed based on CUDA.')\n",
    "        else:\n",
    "            self.device = 'cpu'\n",
    "            print('Your simulation will be performed based on CPU.')\n",
    "\n",
    "        self.make_grid()\n",
    "\n",
    "        # Useful preload data\n",
    "        self.x_coord_tensor = torch.arange(self.x_grid, requires_grad=False, device=self.device).expand(self.y_grid, self.x_grid) * self.dx\n",
    "        self.y_coord_tensor = torch.arange(self.y_grid, requires_grad=False, device=self.device).unsqueeze(1).expand(self.y_grid, self.x_grid) * self.dx\n",
    "\n",
    "        # Some initialization\n",
    "        self.set_ic()\n",
    "\n",
    "    def make_heat_source_func(self, Q):\n",
    "        if callable(Q):\n",
    "            return Q\n",
    "        else:\n",
    "            def func(x, y, t):\n",
    "                return Q\n",
    "            return func\n",
    "\n",
    "    def set_ic(self):\n",
    "        # print(self.grid[1:-1,1:-1].shape)\n",
    "        self.grid[1:-1,1:-1] = self.ic(self.x_coord_tensor, self.y_coord_tensor)\n",
    "\n",
    "    def set_bc(self):\n",
    "        self.bc.apply(self)\n",
    "\n",
    "\n",
    "    def make_grid(self):\n",
    "        # Get size of grid\n",
    "        self.x_grid = math.ceil(self.map_shape[1] / self.dx)\n",
    "        self.y_grid = math.ceil(self.map_shape[0] / self.dx)\n",
    "        self.grid = torch.zeros(self.y_grid+2, self.x_grid+2, dtype=self.dtype, device=self.device)\n",
    "\n",
    "        # For convenience, prevent overhead for unsqueeze\n",
    "        self.grid_ch = self.grid.unsqueeze(0).unsqueeze(0).expand(1,1,-1,-1)\n",
    "\n",
    "    def make_conv_core_continuous(self):\n",
    "        self.conv = nn.Conv2d(1, 4, kernel_size=(3,3), bias=False, device=self.device, dtype=self.dtype)\n",
    "        dt_dx2 = self.dt / (self.dx**2)\n",
    "        kernel = torch.tensor([\n",
    "            [[ [0,0,0], [1,-1,0], [0,0,0] ]],\n",
    "            [[ [0,0,0], [0,-1,1], [0,0,0] ]],\n",
    "            [[ [0,1,0], [0,-1,0], [0,0,0] ]],\n",
    "            [[ [0,0,0], [0,-1,0], [0,1,0] ]]\n",
    "        ], device=self.device, dtype=self.dtype) * dt_dx2\n",
    "\n",
    "        with torch.no_grad():\n",
    "            self.conv.weight[:] = kernel\n",
    "\n",
    "    def make_conv_core_const(self):\n",
    "        self.conv = nn.Conv2d(1, 1, kernel_size=(3,3), bias=False, device=self.device, dtype=self.dtype)\n",
    "        dt_dx2 = self.dt / (self.dx**2)\n",
    "        kernel = torch.tensor([\n",
    "            [[ [0,1,0], [1,-4,1], [0,1,0] ]],\n",
    "        ], device=self.device, dtype=self.dtype) * dt_dx2 * self.c\n",
    "\n",
    "        with torch.no_grad():\n",
    "            self.conv.weight[:] = kernel\n",
    "\n",
    "    def decide_computation_mode(self):\n",
    "        if isinstance(self.c, ContConduct):\n",
    "            self.update = self.update_continuous\n",
    "            self.make_conv_core_continuous()\n",
    "        else:\n",
    "            self.update = self.update_const\n",
    "            self.make_conv_core_const()\n",
    "\n",
    "    def update_continuous(self):\n",
    "        with torch.inference_mode():\n",
    "            diff_map = self.conv(self.grid_ch)\n",
    "            diff = (torch.sum(diff_map * self.c.merge_map, dim=1, keepdim=True)\n",
    "                    + self.Q(self.x_coord_tensor, self.y_coord_tensor, self.cur_time)) * self.dt\n",
    "            self.grid_ch[:, :, 1:-1, 1:-1] += diff\n",
    "\n",
    "\n",
    "    def update_const(self):\n",
    "\n",
    "        diff = self.conv(self.grid_ch)\n",
    "        # print(diff.shape)\n",
    "        self.grid_ch[:, :, 1:-1, 1:-1] += diff + self.Q(self.x_coord_tensor, self.y_coord_tensor, self.cur_time) * self.dt\n",
    "\n",
    "    def start(self):\n",
    "        saved = []\n",
    "        append = saved.append\n",
    "        cur_max = -float('inf')\n",
    "        cur_min = float('inf')\n",
    "        with torch.inference_mode():\n",
    "            for step in tqdm(range( int(self.total_time/self.dt) ),disable=False):\n",
    "                self.set_bc()\n",
    "                self.update()\n",
    "                self.cur_time += self.dt\n",
    "                \n",
    "                if step % self.plot_step == 0:\n",
    "                    copied = self.grid[1:-1,1:-1].clone().to('cpu')\n",
    "                    if self.dtype == torch.bfloat16:\n",
    "                        copied = copied.to(dtype=torch.float32)\n",
    "                    append(copied)\n",
    "                    \n",
    "                    this_max = torch.max(copied)\n",
    "                    if cur_max < this_max:\n",
    "                        cur_max = this_max\n",
    "                        \n",
    "                    this_min = torch.min(copied)\n",
    "                    if cur_min > this_min:\n",
    "                        cur_min = this_min\n",
    "        \n",
    "        # Append the very final result          \n",
    "        copied = self.grid[1:-1,1:-1].clone().to('cpu')\n",
    "        if self.dtype == torch.bfloat16:\n",
    "            copied = copied.to(dtype=torch.float32)\n",
    "        append(copied)\n",
    "\n",
    "        fig, axis = plt.subplots()\n",
    "        pcm = axis.pcolormesh(self.grid.cpu().numpy()[1:-1,1:-1], cmap=plt.cm.jet,\n",
    "                              vmin=float(cur_min), vmax=float(cur_max))\n",
    "        plt.colorbar(pcm, ax=axis)\n",
    "        axis.set_xlabel('x grids')\n",
    "        axis.set_ylabel('y grids')\n",
    "        \n",
    "        for i, data in enumerate(saved):\n",
    "            pcm.set_array(data.numpy())\n",
    "            axis.set_title(f'Distribution at t={i * self.plot_step * self.dt:.4f}')\n",
    "            plt.pause(0.01)\n",
    "\n",
    "        plt.show()"
   ]
  },
  {
   "cell_type": "code",
   "execution_count": 35,
   "id": "3dfc2102",
   "metadata": {},
   "outputs": [
    {
     "name": "stdout",
     "output_type": "stream",
     "text": [
      "yes\n"
     ]
    }
   ],
   "source": [
    "if torch.max( torch.tensor([1,2,3])) <4:\n",
    "    print('yes')"
   ]
  },
  {
   "cell_type": "code",
   "execution_count": 39,
   "id": "6f794d7ee8650a91",
   "metadata": {
    "ExecuteTime": {
     "end_time": "2025-04-23T17:21:21.404117Z",
     "start_time": "2025-04-23T17:20:52.559098Z"
    }
   },
   "outputs": [
    {
     "name": "stdout",
     "output_type": "stream",
     "text": [
      "0.2\n",
      "Your simulation will be performed based on CUDA.\n"
     ]
    },
    {
     "name": "stderr",
     "output_type": "stream",
     "text": [
      "  0%|          | 0/99999 [00:00<?, ?it/s]\n"
     ]
    },
    {
     "ename": "TypeError",
     "evalue": "func2() missing 2 required positional arguments: 'y' and 't'",
     "output_type": "error",
     "traceback": [
      "\u001b[31m---------------------------------------------------------------------------\u001b[39m",
      "\u001b[31mTypeError\u001b[39m                                 Traceback (most recent call last)",
      "\u001b[36mCell\u001b[39m\u001b[36m \u001b[39m\u001b[32mIn[39]\u001b[39m\u001b[32m, line 27\u001b[39m\n\u001b[32m     25\u001b[39m con.make_conduct_map(test)\n\u001b[32m     26\u001b[39m \u001b[38;5;66;03m# con.map_right.shape\u001b[39;00m\n\u001b[32m---> \u001b[39m\u001b[32m27\u001b[39m \u001b[43mtest\u001b[49m\u001b[43m.\u001b[49m\u001b[43mstart\u001b[49m\u001b[43m(\u001b[49m\u001b[43m)\u001b[49m\n",
      "\u001b[36mCell\u001b[39m\u001b[36m \u001b[39m\u001b[32mIn[34]\u001b[39m\u001b[32m, line 129\u001b[39m, in \u001b[36mHeat2dSimu.start\u001b[39m\u001b[34m(self)\u001b[39m\n\u001b[32m    127\u001b[39m \u001b[38;5;28;01mwith\u001b[39;00m torch.inference_mode():\n\u001b[32m    128\u001b[39m     \u001b[38;5;28;01mfor\u001b[39;00m step \u001b[38;5;129;01min\u001b[39;00m tqdm(\u001b[38;5;28mrange\u001b[39m( \u001b[38;5;28mint\u001b[39m(\u001b[38;5;28mself\u001b[39m.total_time/\u001b[38;5;28mself\u001b[39m.dt) ),disable=\u001b[38;5;28;01mFalse\u001b[39;00m):\n\u001b[32m--> \u001b[39m\u001b[32m129\u001b[39m         \u001b[38;5;28;43mself\u001b[39;49m\u001b[43m.\u001b[49m\u001b[43mset_bc\u001b[49m\u001b[43m(\u001b[49m\u001b[43m)\u001b[49m\n\u001b[32m    130\u001b[39m         \u001b[38;5;28mself\u001b[39m.update()\n\u001b[32m    131\u001b[39m         \u001b[38;5;28mself\u001b[39m.cur_time += \u001b[38;5;28mself\u001b[39m.dt\n",
      "\u001b[36mCell\u001b[39m\u001b[36m \u001b[39m\u001b[32mIn[34]\u001b[39m\u001b[32m, line 66\u001b[39m, in \u001b[36mHeat2dSimu.set_bc\u001b[39m\u001b[34m(self)\u001b[39m\n\u001b[32m     65\u001b[39m \u001b[38;5;28;01mdef\u001b[39;00m\u001b[38;5;250m \u001b[39m\u001b[34mset_bc\u001b[39m(\u001b[38;5;28mself\u001b[39m):\n\u001b[32m---> \u001b[39m\u001b[32m66\u001b[39m     \u001b[38;5;28;43mself\u001b[39;49m\u001b[43m.\u001b[49m\u001b[43mbc\u001b[49m\u001b[43m.\u001b[49m\u001b[43mapply\u001b[49m\u001b[43m(\u001b[49m\u001b[38;5;28;43mself\u001b[39;49m\u001b[43m.\u001b[49m\u001b[43mgrid\u001b[49m\u001b[43m,\u001b[49m\u001b[43m \u001b[49m\u001b[38;5;28;43mself\u001b[39;49m\u001b[43m.\u001b[49m\u001b[43mdx\u001b[49m\u001b[43m,\u001b[49m\u001b[43m \u001b[49m\u001b[38;5;28;43mself\u001b[39;49m\u001b[43m.\u001b[49m\u001b[43mcur_time\u001b[49m\u001b[43m)\u001b[49m\n",
      "\u001b[36mCell\u001b[39m\u001b[36m \u001b[39m\u001b[32mIn[9]\u001b[39m\u001b[32m, line 21\u001b[39m, in \u001b[36mBC_2D.apply\u001b[39m\u001b[34m(self, grid, dx, cur_time)\u001b[39m\n\u001b[32m     18\u001b[39m gamma_down = \u001b[38;5;28mself\u001b[39m.down_beta / dx\n\u001b[32m     20\u001b[39m \u001b[38;5;66;03m# Left boundary\u001b[39;00m\n\u001b[32m---> \u001b[39m\u001b[32m21\u001b[39m grid[:,\u001b[32m0\u001b[39m] = (\u001b[38;5;28;43mself\u001b[39;49m\u001b[43m.\u001b[49m\u001b[43mleft_func\u001b[49m\u001b[43m(\u001b[49m\u001b[43mcur_time\u001b[49m\u001b[43m)\u001b[49m - gamma_left * grid[:,\u001b[32m1\u001b[39m]) / (\u001b[38;5;28mself\u001b[39m.left_alpha - gamma_left)\n\u001b[32m     24\u001b[39m \u001b[38;5;66;03m# Right boundary\u001b[39;00m\n\u001b[32m     25\u001b[39m grid[:,-\u001b[32m1\u001b[39m] = (\u001b[38;5;28mself\u001b[39m.right_func(cur_time) + gamma_right * grid[:,-\u001b[32m2\u001b[39m]) / (\u001b[38;5;28mself\u001b[39m.right_alpha + gamma_right)\n",
      "\u001b[31mTypeError\u001b[39m: func2() missing 2 required positional arguments: 'y' and 't'"
     ]
    }
   ],
   "source": [
    "# %%timeit -r 10 -n 10\n",
    "map_shape=(1,torch.pi)\n",
    "dx = 0.01\n",
    "total_time=1\n",
    "dt=0.00001\n",
    "\n",
    "def ic(x,y):\n",
    "    return torch.sin(x)\n",
    "c=1\n",
    "plot_step=1000\n",
    "def Q(x,y,t):\n",
    "    return 0\n",
    "device='cpu'\n",
    "factor = dt*c*2/dx**2\n",
    "print(factor)\n",
    "def func(x,y):\n",
    "    return x+y\n",
    "con = ContConduct(func)\n",
    "def func2(x,y,t):\n",
    "    return 0\n",
    "def func3(x,y,t):\n",
    "    return 0\n",
    "bc= BC_2D((1,0,func2),(1,0,func2),(0,1,func3),(0,1,func3))\n",
    "test = Heat2dSimu(map_shape, dx, total_time, dt, bc, ic, c, plot_step, Q=0, device='cuda', do_progress_bar=True, dtype=torch.float64)\n",
    "con.make_conduct_map(test)\n",
    "# con.map_right.shape\n",
    "test.start()\n"
   ]
  },
  {
   "cell_type": "code",
   "execution_count": 27,
   "id": "fde479b5a93d7069",
   "metadata": {
    "ExecuteTime": {
     "end_time": "2025-04-23T17:21:30.216993Z",
     "start_time": "2025-04-23T17:21:30.169186Z"
    }
   },
   "outputs": [
    {
     "data": {
      "text/plain": [
       "tensor(0.3711, device='cuda:0', dtype=torch.float64)"
      ]
     },
     "execution_count": 27,
     "metadata": {},
     "output_type": "execute_result"
    }
   ],
   "source": [
    "result = test.grid[1,1:-1]\n",
    "max(result)"
   ]
  },
  {
   "cell_type": "code",
   "execution_count": 38,
   "id": "b47ede6ab027e504",
   "metadata": {
    "ExecuteTime": {
     "end_time": "2025-04-23T17:24:59.086390Z",
     "start_time": "2025-04-23T17:24:59.080390Z"
    }
   },
   "outputs": [],
   "source": [
    "import math\n",
    "x = torch.linspace(0, torch.pi-dx, result.shape[0], device='cuda')\n",
    "exact = (torch.sin(x) * math.exp(-total_time)).to(device='cuda')\n"
   ]
  },
  {
   "cell_type": "code",
   "execution_count": 42,
   "id": "9a674d7b318eec7a",
   "metadata": {
    "ExecuteTime": {
     "end_time": "2025-04-23T17:26:01.820275Z",
     "start_time": "2025-04-23T17:26:01.815634Z"
    }
   },
   "outputs": [
    {
     "data": {
      "text/plain": [
       "tensor(0.0002, device='cuda:0', dtype=torch.float64)"
      ]
     },
     "execution_count": 42,
     "metadata": {},
     "output_type": "execute_result"
    }
   ],
   "source": [
    "float(torch.norm(exact-result) / int(result.shape[0]))"
   ]
  },
  {
   "cell_type": "code",
   "execution_count": 19,
   "id": "79529a2cc90f10e1",
   "metadata": {
    "ExecuteTime": {
     "end_time": "2025-04-22T02:05:53.173070Z",
     "start_time": "2025-04-22T02:05:53.168563Z"
    }
   },
   "outputs": [
    {
     "name": "stdout",
     "output_type": "stream",
     "text": [
      "tensor([[0, 1, 2, 3, 4],\n",
      "        [0, 1, 2, 3, 4],\n",
      "        [0, 1, 2, 3, 4],\n",
      "        [0, 1, 2, 3, 4]])\n",
      "tensor([[0, 0, 0, 0, 0],\n",
      "        [1, 1, 1, 1, 1],\n",
      "        [2, 2, 2, 2, 2],\n",
      "        [3, 3, 3, 3, 3]])\n"
     ]
    }
   ],
   "source": [
    "height = 4  # number of rows (y-axis)\n",
    "width = 5   # number of columns (x-axis)\n",
    "\n",
    "x_coord_tensor = torch.arange(width).expand(height, width)\n",
    "y_coord_tensor = torch.arange(height).unsqueeze(1).expand(height, width)\n",
    "print(x_coord_tensor)\n",
    "print(y_coord_tensor)"
   ]
  },
  {
   "cell_type": "code",
   "execution_count": 27,
   "id": "e25f067b28927235",
   "metadata": {
    "ExecuteTime": {
     "end_time": "2025-04-16T23:22:42.042118Z",
     "start_time": "2025-04-16T23:22:42.037772Z"
    }
   },
   "outputs": [
    {
     "name": "stdout",
     "output_type": "stream",
     "text": [
      "tensor([[0, 0, 0, 0, 0],\n",
      "        [1, 1, 1, 1, 1],\n",
      "        [2, 2, 2, 2, 2],\n",
      "        [3, 3, 3, 3, 3]])\n"
     ]
    }
   ],
   "source": [
    "import torch\n",
    "\n",
    "height = 4  # number of rows (y-axis)\n",
    "width = 5   # number of columns (x-axis)\n",
    "\n",
    "y_coord_tensor = torch.arange(height).unsqueeze(1).repeat(1, width)\n",
    "print(y_coord_tensor)"
   ]
  },
  {
   "cell_type": "code",
   "execution_count": 4,
   "id": "4557a4d4fd950e62",
   "metadata": {
    "ExecuteTime": {
     "end_time": "2025-04-22T01:29:19.328202Z",
     "start_time": "2025-04-22T01:29:19.318686Z"
    }
   },
   "outputs": [],
   "source": [
    "torch.manual_seed(42)\n",
    "big = torch.tensor([\n",
    "    [[ [0,0,0], [1,-1,0], [0,0,0] ]],\n",
    "    [[ [0,0,0], [0,-1,1], [0,0,0] ]],\n",
    "    [[ [0,1,0], [0,-1,0], [0,0,0] ]],\n",
    "    [[ [0,0,0], [0,-1,0], [0,1,0] ]]\n",
    "], device='cuda', dtype=torch.float32)\n"
   ]
  },
  {
   "cell_type": "code",
   "execution_count": 6,
   "id": "f79cf5845f2c035f",
   "metadata": {
    "ExecuteTime": {
     "end_time": "2025-04-22T01:29:29.244066Z",
     "start_time": "2025-04-22T01:29:29.234309Z"
    }
   },
   "outputs": [],
   "source": [
    "small_merge = nn.Conv2d(1, 4, kernel_size=(3,3), bias=False, device='cuda')\n",
    "small_one = nn.Conv2d(1, 1, kernel_size=(3,3), bias=False, device='cuda')\n",
    "tensor = torch.rand((1,1,1000,1000), device='cuda', requires_grad=False)\n",
    "small_left = nn.Conv2d(1, 1, kernel_size=(1,3), bias=False, device='cuda')\n",
    "small_right = nn.Conv2d(1, 1, kernel_size=(1,3), bias=False, device='cuda')\n",
    "small_up = nn.Conv2d(1, 1, kernel_size=(3,1), bias=False, device='cuda')\n",
    "small_down = nn.Conv2d(1, 1, kernel_size=(3,1), bias=False, device='cuda')\n",
    "with torch.no_grad():\n",
    "    small_left.weight[:] = torch.tensor([\n",
    "        [[[1, -1, 0]]],\n",
    "    ], dtype=torch.float32, device='cuda')\n",
    "    small_right.weight[:] = torch.tensor([\n",
    "        [[[0, -1, 1]]],\n",
    "    ], dtype=torch.float32, device='cuda')\n",
    "    small_up.weight[:] = torch.tensor([\n",
    "        [[[1], [-1], [0]]]\n",
    "    ], device='cuda', dtype=torch.float32)\n",
    "    small_up.weight[:] = torch.tensor([\n",
    "        [[[0], [-1], [1]]]\n",
    "    ], device='cuda', dtype=torch.float32)\n",
    "    small_merge.weight[:] = big\n",
    "    small_one.weight[:] = torch.tensor([\n",
    "        [[ [1,0,0], [1,-4,1], [0,1,0] ]]\n",
    "    ], device='cuda', dtype=torch.float32)"
   ]
  },
  {
   "cell_type": "code",
   "execution_count": 189,
   "id": "6eeb60e8a09b083c",
   "metadata": {
    "ExecuteTime": {
     "end_time": "2025-04-21T07:01:10.371180Z",
     "start_time": "2025-04-21T07:01:08.967050Z"
    }
   },
   "outputs": [
    {
     "name": "stdout",
     "output_type": "stream",
     "text": [
      "158 μs ± 8.55 μs per loop (mean ± std. dev. of 7 runs, 1,000 loops each)\n"
     ]
    }
   ],
   "source": [
    "%%timeit\n",
    "c = small_merge(tensor)\n",
    "torch.sum(c, dim=1).squeeze(0)\n"
   ]
  },
  {
   "cell_type": "code",
   "execution_count": 10,
   "id": "3ae54403b5c1577e",
   "metadata": {
    "ExecuteTime": {
     "end_time": "2025-04-22T01:30:58.616275Z",
     "start_time": "2025-04-22T01:30:56.421431Z"
    }
   },
   "outputs": [
    {
     "name": "stdout",
     "output_type": "stream",
     "text": [
      "2.19 μs ± 141 ns per loop (mean ± std. dev. of 100 runs, 10,000 loops each)\n"
     ]
    }
   ],
   "source": [
    "%%timeit -r 100 -n 10000\n",
    "tensor.unsqueeze(0).unsqueeze(0)"
   ]
  },
  {
   "cell_type": "code",
   "execution_count": 40,
   "id": "2002024f2b347e1f",
   "metadata": {
    "ExecuteTime": {
     "end_time": "2025-04-21T06:53:13.107040Z",
     "start_time": "2025-04-21T06:53:09.140552Z"
    }
   },
   "outputs": [
    {
     "ename": "NameError",
     "evalue": "name 'small_left' is not defined",
     "output_type": "error",
     "traceback": [
      "\u001b[31m---------------------------------------------------------------------------\u001b[39m",
      "\u001b[31mNameError\u001b[39m                                 Traceback (most recent call last)",
      "\u001b[36mCell\u001b[39m\u001b[36m \u001b[39m\u001b[32mIn[40]\u001b[39m\u001b[32m, line 1\u001b[39m\n\u001b[32m----> \u001b[39m\u001b[32m1\u001b[39m \u001b[43mget_ipython\u001b[49m\u001b[43m(\u001b[49m\u001b[43m)\u001b[49m\u001b[43m.\u001b[49m\u001b[43mrun_cell_magic\u001b[49m\u001b[43m(\u001b[49m\u001b[33;43m'\u001b[39;49m\u001b[33;43mtimeit\u001b[39;49m\u001b[33;43m'\u001b[39;49m\u001b[43m,\u001b[49m\u001b[43m \u001b[49m\u001b[33;43m'\u001b[39;49m\u001b[33;43m'\u001b[39;49m\u001b[43m,\u001b[49m\u001b[43m \u001b[49m\u001b[33;43m'\u001b[39;49m\u001b[33;43mleft = small_left(tensor[:,:,1:-1,:])\u001b[39;49m\u001b[38;5;130;43;01m\\n\u001b[39;49;00m\u001b[33;43mright = small_right(tensor[:,:,1:-1,:])\u001b[39;49m\u001b[38;5;130;43;01m\\n\u001b[39;49;00m\u001b[33;43mup = small_up(tensor[:,:,:,1:-1])\u001b[39;49m\u001b[38;5;130;43;01m\\n\u001b[39;49;00m\u001b[33;43mdown = small_down(tensor[:,:,:,1:-1])\u001b[39;49m\u001b[38;5;130;43;01m\\n\u001b[39;49;00m\u001b[33;43m(left + right + up + down).squeeze(0).squeeze(0)\u001b[39;49m\u001b[38;5;130;43;01m\\n\u001b[39;49;00m\u001b[33;43m'\u001b[39;49m\u001b[43m)\u001b[49m\n",
      "\u001b[36mFile \u001b[39m\u001b[32m~\\AppData\\Roaming\\Python\\Python312\\site-packages\\IPython\\core\\interactiveshell.py:2539\u001b[39m, in \u001b[36mInteractiveShell.run_cell_magic\u001b[39m\u001b[34m(self, magic_name, line, cell)\u001b[39m\n\u001b[32m   2537\u001b[39m \u001b[38;5;28;01mwith\u001b[39;00m \u001b[38;5;28mself\u001b[39m.builtin_trap:\n\u001b[32m   2538\u001b[39m     args = (magic_arg_s, cell)\n\u001b[32m-> \u001b[39m\u001b[32m2539\u001b[39m     result = \u001b[43mfn\u001b[49m\u001b[43m(\u001b[49m\u001b[43m*\u001b[49m\u001b[43margs\u001b[49m\u001b[43m,\u001b[49m\u001b[43m \u001b[49m\u001b[43m*\u001b[49m\u001b[43m*\u001b[49m\u001b[43mkwargs\u001b[49m\u001b[43m)\u001b[49m\n\u001b[32m   2541\u001b[39m \u001b[38;5;66;03m# The code below prevents the output from being displayed\u001b[39;00m\n\u001b[32m   2542\u001b[39m \u001b[38;5;66;03m# when using magics with decorator @output_can_be_silenced\u001b[39;00m\n\u001b[32m   2543\u001b[39m \u001b[38;5;66;03m# when the last Python token in the expression is a ';'.\u001b[39;00m\n\u001b[32m   2544\u001b[39m \u001b[38;5;28;01mif\u001b[39;00m \u001b[38;5;28mgetattr\u001b[39m(fn, magic.MAGIC_OUTPUT_CAN_BE_SILENCED, \u001b[38;5;28;01mFalse\u001b[39;00m):\n",
      "\u001b[36mFile \u001b[39m\u001b[32m~\\AppData\\Roaming\\Python\\Python312\\site-packages\\IPython\\core\\magics\\execution.py:1221\u001b[39m, in \u001b[36mExecutionMagics.timeit\u001b[39m\u001b[34m(self, line, cell, local_ns)\u001b[39m\n\u001b[32m   1219\u001b[39m \u001b[38;5;28;01mfor\u001b[39;00m index \u001b[38;5;129;01min\u001b[39;00m \u001b[38;5;28mrange\u001b[39m(\u001b[32m0\u001b[39m, \u001b[32m10\u001b[39m):\n\u001b[32m   1220\u001b[39m     number = \u001b[32m10\u001b[39m ** index\n\u001b[32m-> \u001b[39m\u001b[32m1221\u001b[39m     time_number = \u001b[43mtimer\u001b[49m\u001b[43m.\u001b[49m\u001b[43mtimeit\u001b[49m\u001b[43m(\u001b[49m\u001b[43mnumber\u001b[49m\u001b[43m)\u001b[49m\n\u001b[32m   1222\u001b[39m     \u001b[38;5;28;01mif\u001b[39;00m time_number >= \u001b[32m0.2\u001b[39m:\n\u001b[32m   1223\u001b[39m         \u001b[38;5;28;01mbreak\u001b[39;00m\n",
      "\u001b[36mFile \u001b[39m\u001b[32m~\\AppData\\Roaming\\Python\\Python312\\site-packages\\IPython\\core\\magics\\execution.py:182\u001b[39m, in \u001b[36mTimer.timeit\u001b[39m\u001b[34m(self, number)\u001b[39m\n\u001b[32m    180\u001b[39m gc.disable()\n\u001b[32m    181\u001b[39m \u001b[38;5;28;01mtry\u001b[39;00m:\n\u001b[32m--> \u001b[39m\u001b[32m182\u001b[39m     timing = \u001b[38;5;28;43mself\u001b[39;49m\u001b[43m.\u001b[49m\u001b[43minner\u001b[49m\u001b[43m(\u001b[49m\u001b[43mit\u001b[49m\u001b[43m,\u001b[49m\u001b[43m \u001b[49m\u001b[38;5;28;43mself\u001b[39;49m\u001b[43m.\u001b[49m\u001b[43mtimer\u001b[49m\u001b[43m)\u001b[49m\n\u001b[32m    183\u001b[39m \u001b[38;5;28;01mfinally\u001b[39;00m:\n\u001b[32m    184\u001b[39m     \u001b[38;5;28;01mif\u001b[39;00m gcold:\n",
      "\u001b[36mFile \u001b[39m\u001b[32m<magic-timeit>:1\u001b[39m, in \u001b[36minner\u001b[39m\u001b[34m(_it, _timer)\u001b[39m\n",
      "\u001b[31mNameError\u001b[39m: name 'small_left' is not defined"
     ]
    }
   ],
   "source": [
    "%%timeit\n",
    "left = small_left(tensor[:,:,1:-1,:])\n",
    "right = small_right(tensor[:,:,1:-1,:])\n",
    "up = small_up(tensor[:,:,:,1:-1])\n",
    "down = small_down(tensor[:,:,:,1:-1])\n",
    "(left + right + up + down).squeeze(0).squeeze(0)"
   ]
  },
  {
   "cell_type": "code",
   "execution_count": 159,
   "id": "58d435f84ed6e419",
   "metadata": {
    "ExecuteTime": {
     "end_time": "2025-04-21T05:58:25.907376Z",
     "start_time": "2025-04-21T05:58:25.903384Z"
    }
   },
   "outputs": [
    {
     "data": {
      "text/plain": [
       "torch.Size([1, 998, 998])"
      ]
     },
     "execution_count": 159,
     "metadata": {},
     "output_type": "execute_result"
    }
   ],
   "source": [
    "c = small_merge(tensor)\n",
    "torch.sum(c, dim=1).shape"
   ]
  },
  {
   "cell_type": "code",
   "execution_count": 115,
   "id": "e12d67fd304fc9f",
   "metadata": {
    "ExecuteTime": {
     "end_time": "2025-04-21T05:22:22.835801Z",
     "start_time": "2025-04-21T05:22:22.828801Z"
    }
   },
   "outputs": [
    {
     "name": "stdout",
     "output_type": "stream",
     "text": [
      "tensor([[[[True, True, True,  ..., True, True, True],\n",
      "          [True, True, True,  ..., True, True, True],\n",
      "          [True, True, True,  ..., True, True, True],\n",
      "          ...,\n",
      "          [True, True, True,  ..., True, True, True],\n",
      "          [True, True, True,  ..., True, True, True],\n",
      "          [True, True, True,  ..., True, True, True]]]], device='cuda:0')\n"
     ]
    }
   ],
   "source": [
    "a = small1(tensor) + small2(tensor)\n",
    "res = small3(tensor)\n",
    "print(a == res[:,0,:,:] + res[:,1,:,:])"
   ]
  },
  {
   "cell_type": "code",
   "execution_count": 126,
   "id": "fccc4d8750796ea6",
   "metadata": {
    "ExecuteTime": {
     "end_time": "2025-04-21T05:32:00.100582Z",
     "start_time": "2025-04-21T05:32:00.096576Z"
    }
   },
   "outputs": [
    {
     "name": "stdout",
     "output_type": "stream",
     "text": [
      "tensor([[10, 14,  3],\n",
      "        [ 4,  5,  6]])\n",
      "tensor([[[[10, 14,  3],\n",
      "          [ 4,  5,  6]],\n",
      "\n",
      "         [[10, 14,  3],\n",
      "          [ 4,  5,  6]]]])\n"
     ]
    }
   ],
   "source": [
    "r = torch.tensor([[1,2,3],[4,5,6]])\n",
    "r_batch = r.unsqueeze(0).unsqueeze(0).expand(1,2,-1,-1)\n",
    "r[0,0] = 10\n",
    "r_batch[0,0,0,1] = 14\n",
    "print(r)\n",
    "print(r_batch)"
   ]
  },
  {
   "cell_type": "code",
   "execution_count": 24,
   "id": "69e638a0c4c31cd1",
   "metadata": {
    "ExecuteTime": {
     "end_time": "2025-04-21T03:35:55.240866Z",
     "start_time": "2025-04-21T03:35:47.021681Z"
    }
   },
   "outputs": [
    {
     "name": "stdout",
     "output_type": "stream",
     "text": [
      "1.01 μs ± 12.8 ns per loop (mean ± std. dev. of 7 runs, 1,000,000 loops each)\n"
     ]
    }
   ],
   "source": []
  },
  {
   "cell_type": "code",
   "execution_count": 18,
   "id": "79406bcdfc1ec34c",
   "metadata": {
    "ExecuteTime": {
     "end_time": "2025-04-21T03:26:53.512959Z",
     "start_time": "2025-04-21T03:26:53.496938Z"
    }
   },
   "outputs": [
    {
     "name": "stdout",
     "output_type": "stream",
     "text": [
      "torch.Size([1, 1, 3, 3])\n"
     ]
    }
   ],
   "source": [
    "conv = nn.Conv2d(in_channels=1, out_channels=1, kernel_size=3, bias=False)\n",
    "\n",
    "# Manually set weights (must match shape)\n",
    "with torch.no_grad():\n",
    "    conv.weight.copy_(torch.tensor([[[[0, 0, 0],\n",
    "                                      [1, -1, 0],\n",
    "                                      [0, 0, 0]]]]))\n",
    "\n",
    "# Input tensor\n",
    "x = torch.randn(1, 1, 5, 5)\n",
    "output = conv(x)\n",
    "\n",
    "print(output.shape)"
   ]
  }
 ],
 "metadata": {
  "kernelspec": {
   "display_name": "Python 3 (ipykernel)",
   "language": "python",
   "name": "python3"
  }
 },
 "nbformat": 5,
 "nbformat_minor": 9
}
